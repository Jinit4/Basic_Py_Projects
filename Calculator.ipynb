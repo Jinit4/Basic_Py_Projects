{
  "nbformat": 4,
  "nbformat_minor": 0,
  "metadata": {
    "colab": {
      "provenance": [],
      "authorship_tag": "ABX9TyObp0HruXJxuA3bhh7VUYzf",
      "include_colab_link": true
    },
    "kernelspec": {
      "name": "python3",
      "display_name": "Python 3"
    },
    "language_info": {
      "name": "python"
    }
  },
  "cells": [
    {
      "cell_type": "markdown",
      "metadata": {
        "id": "view-in-github",
        "colab_type": "text"
      },
      "source": [
        "<a href=\"https://colab.research.google.com/github/Jinit4/Basic_Py_Projects/blob/main/Calculator.ipynb\" target=\"_parent\"><img src=\"https://colab.research.google.com/assets/colab-badge.svg\" alt=\"Open In Colab\"/></a>"
      ]
    },
    {
      "cell_type": "code",
      "execution_count": null,
      "metadata": {
        "colab": {
          "base_uri": "https://localhost:8080/"
        },
        "id": "arZYafJ9msTv",
        "outputId": "5aa8f101-7771-46c3-87bf-71711add1d4d"
      },
      "outputs": [
        {
          "output_type": "stream",
          "name": "stdout",
          "text": [
            " 🔟 Welcome to the calculator! 🔢 \n"
          ]
        }
      ],
      "source": [
        "print (\" 🔟 Welcome to the calculator! 🔢 \")\n",
        "\n",
        "while True:\n",
        "  #Taking User Input\n",
        "  num1 = float(input(\"\\nEnter First Number: \")) #Number can be Float, Integer\n",
        "  print(\"See the operators below for operations: \")\n",
        "  print(\"Addition: ➕\")\n",
        "  print(\"Subtraction: ➖\")\n",
        "  print(\"Multiplication ✖️\")\n",
        "  print(\"Division ➗\")\n",
        "  print(\"Modulus %\") #Modulus divides one number by another and prints the remainder.\n",
        "  operator=input(\"Enter Operator: \")\n",
        "  num2 = float(input(\"\\nEnter Second Number: \"))#Number can be Float, Integer\n",
        "\n",
        "  if operator == \"+\":\n",
        "    result = num1+num2\n",
        "    print (f\"✅ The Addition of {num1} + {num2} = {result}\")\n",
        "\n",
        "  elif operator == \"-\":\n",
        "    if num1 > num2:\n",
        "      result = num1-num2\n",
        "      print (f\"✅ The Addition of {num1} - {num2} = {result}\")\n",
        "    else:\n",
        "      result = num2-num1\n",
        "      print (f\"✅ The Addition of {num2} - {num1} = {result}\")\n",
        "\n",
        "  elif operator == \"*\":\n",
        "    result = num1*num2\n",
        "    print (f\"✅ The Addition of {num1} * {num2} = {result}\")\n",
        "\n",
        "  elif operator == \"/\":\n",
        "    if num2 != 0:\n",
        "      result = num1/num2\n",
        "      print (f\"✅ The Addition of {num1} + {num2} = {result}\")\n",
        "    else:\n",
        "      print (\"❌ Error! Division by Zero is not allowed\")\n",
        "\n",
        "  elif operator == \"%\":\n",
        "    if num2 != 0:\n",
        "      result = num1%num2\n",
        "      print (f\"✅ The Addition of {num1} % {num2} = {result}\")\n",
        "    else:\n",
        "      print (\"❌ Error! Modulo by Zero is not allowed\")\n",
        "\n",
        "  else:\n",
        "      print(\"⚠️ Invalid operator! Please use +, -, *, /, or %.\")\n",
        "\n",
        "  choice = input(\"\\nDo you want to perform another calculation? (yes/no): \").lower()\n",
        "  if choice != \"yes\":\n",
        "      print(\"👋 Thank you for using the calculator! Goodbye!\")\n",
        "      break\n",
        "\n"
      ]
    }
  ]
}